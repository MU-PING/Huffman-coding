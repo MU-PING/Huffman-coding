{
 "cells": [
  {
   "cell_type": "code",
   "execution_count": 1,
   "metadata": {},
   "outputs": [],
   "source": [
    "class Node(): #建立樹的節點\n",
    "    def __init__(self,fre,data=None,left=None,right=None):\n",
    "        self.data = data\n",
    "        self.frequency = fre\n",
    "        self.leftNode = left\n",
    "        self.rightNode = right"
   ]
  },
  {
   "cell_type": "code",
   "execution_count": 2,
   "metadata": {},
   "outputs": [
    {
     "name": "stdout",
     "output_type": "stream",
     "text": [
      "Input：\n",
      "6\n",
      "a 45\n",
      "b 13\n",
      "c 12\n",
      "d 16\n",
      "e 9\n",
      "f 5\n",
      "\n",
      "Output：\n",
      "a 0\n",
      "c 100\n",
      "b 101\n",
      "f 1100\n",
      "e 1101\n",
      "d 111\n"
     ]
    }
   ],
   "source": [
    "def Alphabet_Frequency_input():\n",
    "    char_dict=[]\n",
    "    for _ in range(int(input())):\n",
    "        temp = input()\n",
    "        temp = temp.replace(\" \",\"\")  #處理輸入的空白\n",
    "        char_dict.append(Node(int(temp[1:]),temp[0]))\n",
    "    print()\n",
    "    return char_dict\n",
    "\n",
    "def Huffman_Tree(node_list):\n",
    "    while True:\n",
    "        node_list.sort(key= lambda x: x.frequency) # Python built-in sorted function = O(nlogn) Timsort\n",
    "        node_list.append(Node( node_list[0].frequency + node_list[1].frequency, left=node_list[0], right=node_list[1])) #產生新結點\n",
    "        del node_list[0] #刪除最小的兩個\n",
    "        del node_list[0]\n",
    "        if len(node_list)==1:break\n",
    "    return node_list[0]\n",
    "\n",
    "char=[]\n",
    "def Preorder(root):\n",
    "    \n",
    "    if(root!=None):\n",
    "        char.append(0)\n",
    "        Preorder(root.leftNode);\n",
    "        char.pop()\n",
    "        char.append(1)\n",
    "        Preorder(root.rightNode);\n",
    "        char.pop()\n",
    "        if root.data!=None:\n",
    "            print(root.data,end=\" \")\n",
    "            for i in char:\n",
    "                print(i,end=\"\")\n",
    "            print()\n",
    "\n",
    "print(\"Input：\")\n",
    "char_dict = Alphabet_Frequency_input()\n",
    "root = Huffman_Tree(char_dict)\n",
    "\n",
    "print(\"Output：\")\n",
    "Preorder(root)"
   ]
  }
 ],
 "metadata": {
  "kernelspec": {
   "display_name": "Python 3",
   "language": "python",
   "name": "python3"
  },
  "language_info": {
   "codemirror_mode": {
    "name": "ipython",
    "version": 3
   },
   "file_extension": ".py",
   "mimetype": "text/x-python",
   "name": "python",
   "nbconvert_exporter": "python",
   "pygments_lexer": "ipython3",
   "version": "3.8.5"
  }
 },
 "nbformat": 4,
 "nbformat_minor": 2
}
